{
 "cells": [
  {
   "cell_type": "markdown",
   "metadata": {},
   "source": [
    "# Goal:\n",
    "Analyze and synthesize 2 users' Spotify recent taste profiles so that we can create a playlist filled with brand new song recommendations for both of them to discover together. The playlist we curate will automatically end up in both of their spotify libraries. A novel way for people to socialize because the playlist is unique to them and can create a special experience for both to find new music together that matches their music tastes."
   ]
  },
  {
   "cell_type": "code",
   "execution_count": 1,
   "metadata": {},
   "outputs": [],
   "source": [
    "# Import the libraries\n",
    "\n",
    "import os\n",
    "import pandas as pd\n",
    "import numpy as np\n",
    "import json\n",
    "import matplotlib.pyplot as plt\n",
    "import seaborn as sns\n",
    "%config InlineBackend.figure_format ='retina'\n",
    "import spotipy\n",
    "import spotipy.util as util\n",
    "from spotipy.oauth2 import SpotifyClientCredentials\n",
    "from sklearn.cluster import KMeans\n",
    "from sklearn.preprocessing import MinMaxScaler\n",
    "import random\n",
    "from pandas.io.json import json_normalize"
   ]
  },
  {
   "cell_type": "markdown",
   "metadata": {},
   "source": [
    "## Authorization Flow"
   ]
  },
  {
   "cell_type": "code",
   "execution_count": 2,
   "metadata": {},
   "outputs": [],
   "source": [
    "# Declare the credentials\n",
    "\n",
    "cid = '0b2103231ba64a70885c27fbb38cfa97'\n",
    "secret = '45d7d10e11474298abcb52df745e2b25'\n",
    "redirect_uri='http://localhost:7777/callback'\n",
    "username = 'areddy12434'\n",
    "\n",
    "# Authorization flow\n",
    "scope = 'user-top-read'\n",
    "token = util.prompt_for_user_token(username, scope, client_id=cid, client_secret=secret, redirect_uri=redirect_uri)\n",
    "\n",
    "if token:\n",
    "    sp = spotipy.Spotify(auth=token)\n",
    "else:\n",
    "    print(\"Can't get token for\", username)"
   ]
  },
  {
   "cell_type": "markdown",
   "metadata": {},
   "source": [
    "# Data Collection\n",
    "## Extract User's Top Medium Term Songs\n",
    "Spotipy has a built-in function to fetch users' top 50 songs. We extract our songs with that function in the Save_User1_Top_50_Songs.ipynb and Save_User2_Top_50_Songs.ipynb notebooks, and we import the resulting csv files from there below"
   ]
  },
  {
   "cell_type": "code",
   "execution_count": 5,
   "metadata": {
    "scrolled": false
   },
   "outputs": [],
   "source": [
    "user1_songs = pd.read_csv('User1_top_50_songs.csv')\n",
    "user2_songs = pd.read_csv('User2_top_50_songs.csv')\n",
    "temp = [user1_songs, user2_songs]\n",
    "temp = pd.concat(temp)\n",
    "temp.reset_index(drop=True,inplace=True)"
   ]
  },
  {
   "cell_type": "markdown",
   "metadata": {},
   "source": [
    "### Extract Users' Top 50 Tracks' Audio Features"
   ]
  },
  {
   "cell_type": "code",
   "execution_count": 6,
   "metadata": {},
   "outputs": [],
   "source": [
    "user1_list = []\n",
    "for song in user1_songs['song_uri']:\n",
    "    row = pd.DataFrame(sp.audio_features(tracks=[song]))\n",
    "    user1_list.append(row)\n",
    "user1_df = pd.concat(user1_list)\n",
    "\n",
    "user2_list = []\n",
    "for song in user2_songs['song_uri']:\n",
    "    row = pd.DataFrame(sp.audio_features(tracks=[song]))\n",
    "    user2_list.append(row)\n",
    "user2_df = pd.concat(user2_list)\n",
    "\n",
    "# Combine both users' top 50 songs into one dataframe of 100 songs\n",
    "\n",
    "dfs = [user1_df, user2_df]\n",
    "dfs = pd.concat(dfs)"
   ]
  },
  {
   "cell_type": "markdown",
   "metadata": {},
   "source": [
    "#### Data Cleaning"
   ]
  },
  {
   "cell_type": "code",
   "execution_count": 7,
   "metadata": {
    "scrolled": true
   },
   "outputs": [],
   "source": [
    "# Drop unnecessary features\n",
    "\n",
    "dfs.drop(['type','track_href','analysis_url','time_signature','duration_ms','uri','instrumentalness','liveness','loudness','key','mode'],1,inplace=True)\n",
    "dfs.set_index('id',inplace=True)"
   ]
  },
  {
   "cell_type": "code",
   "execution_count": 8,
   "metadata": {},
   "outputs": [],
   "source": [
    "# Normalize tempo feature\n",
    "\n",
    "columns = ['danceability','energy','speechiness','acousticness','valence','tempo']\n",
    "scaler = MinMaxScaler()\n",
    "scaler.fit(dfs[columns])\n",
    "dfs[columns] = scaler.transform(dfs[columns])"
   ]
  },
  {
   "cell_type": "markdown",
   "metadata": {},
   "source": [
    "# Building the Song Recommender\n",
    "## K-Means Cluster Analysis\n",
    "We used k-means clustering to identify clusters (essentially subgenres) of similar songs in the dataframe that combines all our favorite recent songs together. This would allow us to call the final recommended songs based on the clusters. We chose k=20 since we ideally want 5 songs per cluster to feed into Spotipy's recommendation() function which only takes 5 seed songs. We have tried the elbow method and saw that the ideal k is around 6-8 depending on the users, however, having a larger k will be able curate much more specified subgenres than having a smaller k that groups more songs per cluster."
   ]
  },
  {
   "cell_type": "code",
   "execution_count": 9,
   "metadata": {},
   "outputs": [
    {
     "data": {
      "text/plain": [
       "KMeans(n_clusters=20)"
      ]
     },
     "execution_count": 9,
     "metadata": {},
     "output_type": "execute_result"
    }
   ],
   "source": [
    "# Get 20 clusters from 100 songs\n",
    "\n",
    "clusters = 20\n",
    "kmeans = KMeans(n_clusters=clusters)\n",
    "kmeans.fit(dfs)"
   ]
  },
  {
   "cell_type": "markdown",
   "metadata": {},
   "source": [
    "### Cluster Analysis\n",
    "Now that we have visualized and confirmed the clusters correspond to the songs, we should update our dataframe to label each song with its cluster."
   ]
  },
  {
   "cell_type": "code",
   "execution_count": 10,
   "metadata": {},
   "outputs": [
    {
     "data": {
      "text/plain": [
       "array([ 2,  7, 15,  5,  2,  0, 10, 10, 17, 19, 16,  1,  0, 18,  6, 18,  1,\n",
       "       14, 10,  9,  8, 14,  5,  8, 15, 10, 15, 11, 10,  9,  2, 11,  1,  0,\n",
       "       10,  9,  5,  1,  2, 10, 18, 18,  2,  0, 10,  9,  6,  4, 14, 18,  8,\n",
       "       18, 18, 14,  7,  9, 13,  5,  1, 14,  1, 18,  9,  3,  4, 14,  5, 12,\n",
       "        6, 17, 14,  1,  1, 18,  6, 17, 13, 15,  8,  4,  3, 13,  4,  4,  5,\n",
       "       13,  6,  7, 13,  4,  8,  0,  7, 10, 10,  9, 11,  9,  7,  9])"
      ]
     },
     "execution_count": 10,
     "metadata": {},
     "output_type": "execute_result"
    }
   ],
   "source": [
    "scaler = MinMaxScaler()\n",
    "scaled = scaler.fit_transform(dfs)\n",
    "y_kmeans = kmeans.fit_predict(scaled)\n",
    "y_kmeans"
   ]
  },
  {
   "cell_type": "code",
   "execution_count": 11,
   "metadata": {},
   "outputs": [
    {
     "data": {
      "text/html": [
       "<div>\n",
       "<style scoped>\n",
       "    .dataframe tbody tr th:only-of-type {\n",
       "        vertical-align: middle;\n",
       "    }\n",
       "\n",
       "    .dataframe tbody tr th {\n",
       "        vertical-align: top;\n",
       "    }\n",
       "\n",
       "    .dataframe thead th {\n",
       "        text-align: right;\n",
       "    }\n",
       "</style>\n",
       "<table border=\"1\" class=\"dataframe\">\n",
       "  <thead>\n",
       "    <tr style=\"text-align: right;\">\n",
       "      <th></th>\n",
       "      <th>danceability</th>\n",
       "      <th>energy</th>\n",
       "      <th>speechiness</th>\n",
       "      <th>acousticness</th>\n",
       "      <th>valence</th>\n",
       "      <th>tempo</th>\n",
       "      <th>cluster</th>\n",
       "      <th>artist</th>\n",
       "      <th>title</th>\n",
       "    </tr>\n",
       "    <tr>\n",
       "      <th>id</th>\n",
       "      <th></th>\n",
       "      <th></th>\n",
       "      <th></th>\n",
       "      <th></th>\n",
       "      <th></th>\n",
       "      <th></th>\n",
       "      <th></th>\n",
       "      <th></th>\n",
       "      <th></th>\n",
       "    </tr>\n",
       "  </thead>\n",
       "  <tbody>\n",
       "    <tr>\n",
       "      <th>3ZCTVFBt2Brf31RLEnCkWJ</th>\n",
       "      <td>0.673716</td>\n",
       "      <td>0.100381</td>\n",
       "      <td>0.081903</td>\n",
       "      <td>0.924180</td>\n",
       "      <td>0.228867</td>\n",
       "      <td>0.405763</td>\n",
       "      <td>2</td>\n",
       "      <td>Billie Eilish</td>\n",
       "      <td>everything i wanted</td>\n",
       "    </tr>\n",
       "    <tr>\n",
       "      <th>4NhDYoQTYCdWHTvlbGVgwo</th>\n",
       "      <td>0.533233</td>\n",
       "      <td>0.688691</td>\n",
       "      <td>0.358270</td>\n",
       "      <td>0.027042</td>\n",
       "      <td>0.397482</td>\n",
       "      <td>0.984351</td>\n",
       "      <td>7</td>\n",
       "      <td>6ix9ine</td>\n",
       "      <td>GOOBA</td>\n",
       "    </tr>\n",
       "    <tr>\n",
       "      <th>1kVYXfxTWSftIZtmYr6yH8</th>\n",
       "      <td>0.953172</td>\n",
       "      <td>0.390089</td>\n",
       "      <td>0.266758</td>\n",
       "      <td>0.028066</td>\n",
       "      <td>0.436826</td>\n",
       "      <td>0.603908</td>\n",
       "      <td>15</td>\n",
       "      <td>Andy Mineo</td>\n",
       "      <td>Coming In Hot</td>\n",
       "    </tr>\n",
       "    <tr>\n",
       "      <th>39Yp9wwQiSRIDOvrVg7mbk</th>\n",
       "      <td>0.691843</td>\n",
       "      <td>0.496823</td>\n",
       "      <td>0.026996</td>\n",
       "      <td>0.238724</td>\n",
       "      <td>0.270459</td>\n",
       "      <td>0.504474</td>\n",
       "      <td>5</td>\n",
       "      <td>THE SCOTTS</td>\n",
       "      <td>THE SCOTTS</td>\n",
       "    </tr>\n",
       "    <tr>\n",
       "      <th>5ehVOwEZ1Q7Ckkdtq0dY1W</th>\n",
       "      <td>0.693353</td>\n",
       "      <td>0.059720</td>\n",
       "      <td>0.020705</td>\n",
       "      <td>0.821720</td>\n",
       "      <td>0.005958</td>\n",
       "      <td>0.306645</td>\n",
       "      <td>2</td>\n",
       "      <td>WYS</td>\n",
       "      <td>Snowman</td>\n",
       "    </tr>\n",
       "  </tbody>\n",
       "</table>\n",
       "</div>"
      ],
      "text/plain": [
       "                        danceability    energy  speechiness  acousticness  \\\n",
       "id                                                                          \n",
       "3ZCTVFBt2Brf31RLEnCkWJ      0.673716  0.100381     0.081903      0.924180   \n",
       "4NhDYoQTYCdWHTvlbGVgwo      0.533233  0.688691     0.358270      0.027042   \n",
       "1kVYXfxTWSftIZtmYr6yH8      0.953172  0.390089     0.266758      0.028066   \n",
       "39Yp9wwQiSRIDOvrVg7mbk      0.691843  0.496823     0.026996      0.238724   \n",
       "5ehVOwEZ1Q7Ckkdtq0dY1W      0.693353  0.059720     0.020705      0.821720   \n",
       "\n",
       "                         valence     tempo  cluster         artist  \\\n",
       "id                                                                   \n",
       "3ZCTVFBt2Brf31RLEnCkWJ  0.228867  0.405763        2  Billie Eilish   \n",
       "4NhDYoQTYCdWHTvlbGVgwo  0.397482  0.984351        7        6ix9ine   \n",
       "1kVYXfxTWSftIZtmYr6yH8  0.436826  0.603908       15     Andy Mineo   \n",
       "39Yp9wwQiSRIDOvrVg7mbk  0.270459  0.504474        5     THE SCOTTS   \n",
       "5ehVOwEZ1Q7Ckkdtq0dY1W  0.005958  0.306645        2            WYS   \n",
       "\n",
       "                                      title  \n",
       "id                                           \n",
       "3ZCTVFBt2Brf31RLEnCkWJ  everything i wanted  \n",
       "4NhDYoQTYCdWHTvlbGVgwo                GOOBA  \n",
       "1kVYXfxTWSftIZtmYr6yH8        Coming In Hot  \n",
       "39Yp9wwQiSRIDOvrVg7mbk           THE SCOTTS  \n",
       "5ehVOwEZ1Q7Ckkdtq0dY1W              Snowman  "
      ]
     },
     "execution_count": 11,
     "metadata": {},
     "output_type": "execute_result"
    }
   ],
   "source": [
    "# Updating dataframe with assigned clusters \n",
    "\n",
    "dfs['cluster'] = y_kmeans\n",
    "dfs['artist'] = temp.artist.tolist()\n",
    "dfs['title'] = temp.song.tolist()"
   ]
  },
  {
   "cell_type": "code",
   "execution_count": 13,
   "metadata": {},
   "outputs": [],
   "source": [
    "# Removing clusters that only have one song in them\n",
    "\n",
    "delete_clusters = []\n",
    "cluster = 0\n",
    "while cluster < (len(dfs.cluster.unique())-1):\n",
    "    if dfs.groupby('cluster').count().loc[cluster].danceability == 1:\n",
    "        delete_clusters.append(cluster)\n",
    "    cluster+=1"
   ]
  },
  {
   "cell_type": "code",
   "execution_count": 14,
   "metadata": {},
   "outputs": [],
   "source": [
    "dfs.reset_index(inplace=True)"
   ]
  },
  {
   "cell_type": "code",
   "execution_count": 15,
   "metadata": {
    "scrolled": true
   },
   "outputs": [],
   "source": [
    "i = 0\n",
    "while i < (len(dfs.cluster.unique())-1):\n",
    "    if dfs.loc[[i]].cluster.tolist()[0] in delete_clusters:\n",
    "        dfs.drop(i,0,inplace=True)\n",
    "    i+=1"
   ]
  },
  {
   "cell_type": "code",
   "execution_count": 16,
   "metadata": {},
   "outputs": [],
   "source": [
    "dfs.set_index('id',inplace=True)"
   ]
  },
  {
   "cell_type": "markdown",
   "metadata": {},
   "source": [
    "Now we want to make a nested list so that it contains a list of songs for every cluster. The purpose of this is so that we can find 1-2 recommended songs for each cluster using spotipy's built-in recommendations() function that takes in 5 seed songs."
   ]
  },
  {
   "cell_type": "code",
   "execution_count": 18,
   "metadata": {},
   "outputs": [],
   "source": [
    "# Create list of lists of song ids to put into recommendation function\n",
    "\n",
    "i=0\n",
    "list_of_recs = [0]*len(dfs.groupby('cluster').count())\n",
    "while i<len(dfs.groupby('cluster').count()):\n",
    "    list_of_recs[i] = dfs.loc[dfs['cluster'] == i].index.to_list()\n",
    "    i+=1\n",
    "\n",
    "list_of_recs = [ele for ele in list_of_recs if ele != []] "
   ]
  },
  {
   "cell_type": "code",
   "execution_count": 20,
   "metadata": {},
   "outputs": [],
   "source": [
    "# Adjust list for clusters so that each cluster has a maximum of 5 seed songs\n",
    "\n",
    "j = 0\n",
    "adj_list_of_recs = [0]*len(list_of_recs)\n",
    "while j<len(list_of_recs):\n",
    "    if 0 < len(list_of_recs[j]) < 6:\n",
    "        adj_list_of_recs[j] = list_of_recs[j]\n",
    "    elif len(list_of_recs[j]) > 5:\n",
    "        adj_list_of_recs[j] = random.sample(list_of_recs[j], 5)\n",
    "    j += 1"
   ]
  },
  {
   "cell_type": "markdown",
   "metadata": {},
   "source": [
    "We want to get 1 recommended song from each cluster with less than 4 songs and 2 recommended songs from each cluster with 4-5 songs. This is because we assume that bigger clusters generally mean that we enjoy songs similar to that cluster more. We give weight to the song recommender to accomodate for this preference towards bigger clusters."
   ]
  },
  {
   "cell_type": "code",
   "execution_count": 21,
   "metadata": {},
   "outputs": [
    {
     "data": {
      "text/plain": [
       "0    7KSSdFCBHCfq4KPzz78ghk\n",
       "1    4otQJBpb8okSeykALR3eCH\n",
       "Name: id, dtype: object"
      ]
     },
     "execution_count": 21,
     "metadata": {},
     "output_type": "execute_result"
    }
   ],
   "source": [
    "#Getting 1 recommended song from each cluster with less than 4 songs, 2 recommended songs from each cluster with 4-5 songs\n",
    "\n",
    "k = 0\n",
    "list_of_recommendations = [0]*len(list_of_recs)\n",
    "while k < len(list_of_recs):\n",
    "    if len(adj_list_of_recs[k]) < 4:\n",
    "        list_of_recommendations[k] = sp.recommendations(seed_tracks=adj_list_of_recs[k],limit=1)\n",
    "    else:\n",
    "        list_of_recommendations[k] = sp.recommendations(seed_tracks=adj_list_of_recs[k],limit=2)\n",
    "    k += 1\n",
    "    \n",
    "pd.json_normalize(list_of_recommendations[15], record_path='tracks').id"
   ]
  },
  {
   "cell_type": "code",
   "execution_count": 22,
   "metadata": {},
   "outputs": [
    {
     "data": {
      "text/plain": [
       "32"
      ]
     },
     "execution_count": 22,
     "metadata": {},
     "output_type": "execute_result"
    }
   ],
   "source": [
    "list_of_recommendations_converted = [0]*len(list_of_recs)\n",
    "\n",
    "l = 0\n",
    "while l < len(list_of_recs):\n",
    "    list_of_recommendations_converted.append(pd.json_normalize(list_of_recommendations[l], record_path='tracks').id.tolist())\n",
    "    l += 1\n",
    "\n",
    "no_integers = [x for x in list_of_recommendations_converted if not isinstance(x, int)]\n",
    "list_of_recommendations_converted = [item for elem in no_integers for item in elem]\n",
    "\n",
    "len(list_of_recommendations_converted)"
   ]
  },
  {
   "cell_type": "markdown",
   "metadata": {},
   "source": [
    "## Create the New Playlist\n",
    "Next, we are going to create a new playlist and add to it all the tracks we ended up selecting:"
   ]
  },
  {
   "cell_type": "code",
   "execution_count": 30,
   "metadata": {},
   "outputs": [],
   "source": [
    "# Authorization flow\n",
    "\n",
    "scope = \"playlist-modify-public\"\n",
    "token = util.prompt_for_user_token(username, scope, client_id=cid, client_secret=secret, redirect_uri=redirect_uri)\n",
    "\n",
    "if token:\n",
    "    sp = spotipy.Spotify(auth=token)\n",
    "else:\n",
    "    print(\"Can't get token for\", username)"
   ]
  },
  {
   "cell_type": "code",
   "execution_count": 31,
   "metadata": {},
   "outputs": [],
   "source": [
    "# Create new playlist and insert it straight to user's library\n",
    "\n",
    "def create_playlist(sp, username, playlist_name, playlist_description):\n",
    "    playlists = sp.user_playlist_create(username, playlist_name, description = playlist_description)"
   ]
  },
  {
   "cell_type": "code",
   "execution_count": 32,
   "metadata": {},
   "outputs": [],
   "source": [
    "create_playlist(sp, username, 'Spotify Discover Together', 'Choose a friend to discover brand new music with. We create an adventurous playlist curated to both of your tastes!')"
   ]
  },
  {
   "cell_type": "code",
   "execution_count": 33,
   "metadata": {},
   "outputs": [],
   "source": [
    "# Fetch user's playlist library\n",
    "\n",
    "def fetch_playlists(sp, username):\n",
    "    \"\"\"\n",
    "    Returns the user's playlists.\n",
    "    \"\"\"\n",
    "        \n",
    "    id = []\n",
    "    name = []\n",
    "    num_tracks = []\n",
    "    \n",
    "    # Make the API request\n",
    "    playlists = sp.user_playlists(username)\n",
    "    for playlist in playlists['items']:\n",
    "        id.append(playlist['id'])\n",
    "        name.append(playlist['name'])\n",
    "        num_tracks.append(playlist['tracks']['total'])\n",
    "\n",
    "    # Create the final df   \n",
    "    df_playlists = pd.DataFrame({\"id\":id, \"name\": name, \"#tracks\": num_tracks})\n",
    "    return df_playlists"
   ]
  },
  {
   "cell_type": "code",
   "execution_count": 35,
   "metadata": {},
   "outputs": [],
   "source": [
    "extracted_id = fetch_playlists(sp,username).id[0]"
   ]
  },
  {
   "cell_type": "code",
   "execution_count": 36,
   "metadata": {},
   "outputs": [
    {
     "data": {
      "text/plain": [
       "{'snapshot_id': 'MywwZTVlZGM2YmE2MTljY2I3MDkwZDEwNzU3M2Q5MDNmOTUxMWQwZjRj'}"
      ]
     },
     "execution_count": 36,
     "metadata": {},
     "output_type": "execute_result"
    }
   ],
   "source": [
    "# Finally, fill the new playlist with the recommended songs straight to the user's library!\n",
    "\n",
    "sp.user_playlist_add_tracks(username, extracted_id, list_of_recommendations_converted, position=None)"
   ]
  }
 ],
 "metadata": {
  "kernelspec": {
   "display_name": "Python 3",
   "language": "python",
   "name": "python3"
  },
  "language_info": {
   "codemirror_mode": {
    "name": "ipython",
    "version": 3
   },
   "file_extension": ".py",
   "mimetype": "text/x-python",
   "name": "python",
   "nbconvert_exporter": "python",
   "pygments_lexer": "ipython3",
   "version": "3.7.7"
  }
 },
 "nbformat": 4,
 "nbformat_minor": 2
}
